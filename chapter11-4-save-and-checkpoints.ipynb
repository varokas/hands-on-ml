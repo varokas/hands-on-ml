{
 "cells": [
  {
   "cell_type": "markdown",
   "metadata": {},
   "source": [
    "# Keras Model Save / Load \n",
    "\n",
    "1. Usually we just train until it starts to overfit rather than fixed epoch\n",
    "2. and we can save model to use later\n",
    "3. Only works for functional and sequential API\n",
    "\n",
    "```\n",
    "model = new model\n",
    "model.compile(..)\n",
    "model.fit(..)\n",
    "model.save(\"model.h5\")\n",
    "```"
   ]
  },
  {
   "cell_type": "markdown",
   "metadata": {},
   "source": [
    "## Prepare Model"
   ]
  },
  {
   "cell_type": "code",
   "execution_count": 3,
   "metadata": {},
   "outputs": [],
   "source": [
    "import tensorflow\n",
    "from tensorflow import keras ## Use Keras from Tensorflow to work\n",
    "import matplotlib.pyplot as plt"
   ]
  },
  {
   "cell_type": "code",
   "execution_count": 4,
   "metadata": {},
   "outputs": [
    {
     "data": {
      "text/plain": [
       "((60000, 28, 28), (60000,))"
      ]
     },
     "execution_count": 4,
     "metadata": {},
     "output_type": "execute_result"
    }
   ],
   "source": [
    "# Load Dataset (fashion MNIST)\n",
    "\n",
    "fashion = keras.datasets.fashion_mnist\n",
    "(X_train_full, y_train_full), (X_test, y_test) = fashion.load_data()\n",
    "\n",
    "X_train_full.shape, y_train_full.shape"
   ]
  },
  {
   "cell_type": "code",
   "execution_count": 5,
   "metadata": {},
   "outputs": [],
   "source": [
    "X_train_scaled = X_train_full.astype('float32')/255.0"
   ]
  },
  {
   "cell_type": "code",
   "execution_count": 6,
   "metadata": {},
   "outputs": [],
   "source": [
    "X_valid, X_train = X_train_scaled[:5000], X_train_scaled[5000:]\n",
    "y_valid, y_train = y_train_full[:5000], y_train_full[5000:]"
   ]
  },
  {
   "cell_type": "markdown",
   "metadata": {},
   "source": [
    "## Checkpoints"
   ]
  },
  {
   "cell_type": "code",
   "execution_count": 5,
   "metadata": {},
   "outputs": [
    {
     "name": "stdout",
     "output_type": "stream",
     "text": [
      "WARNING:tensorflow:From /usr/local/anaconda3/lib/python3.7/site-packages/tensorflow/python/ops/resource_variable_ops.py:435: colocate_with (from tensorflow.python.framework.ops) is deprecated and will be removed in a future version.\n",
      "Instructions for updating:\n",
      "Colocations handled automatically by placer.\n"
     ]
    }
   ],
   "source": [
    "model = keras.models.Sequential([\n",
    "    keras.layers.Flatten(input_shape=[28, 28]), # So that we don't have to do .reshape(-1,1)\n",
    "    keras.layers.Dense(100, activation=\"relu\"),  # Hidden (1)\n",
    "    keras.layers.Dense(100, activation=\"relu\"),  # Hidden (2)\n",
    "    keras.layers.Dense(100, activation=\"relu\"),  # Hidden (3)\n",
    "    keras.layers.Dense(100, activation=\"relu\"),  # Hidden (4)\n",
    "    keras.layers.Dense(10, activation=\"softmax\") # Output Layer, 10 classes, decide with softmax\n",
    "                                                 # Use sigmoid for 2\n",
    "])\n",
    "model.compile(loss=\"sparse_categorical_crossentropy\", \n",
    "              optimizer=\"sgd\",\n",
    "              metrics=[\"accuracy\"])"
   ]
  },
  {
   "cell_type": "code",
   "execution_count": 6,
   "metadata": {},
   "outputs": [
    {
     "name": "stdout",
     "output_type": "stream",
     "text": [
      "Train on 55000 samples, validate on 5000 samples\n",
      "Epoch 1/20\n",
      "55000/55000 [==============================] - 8s 139us/sample - loss: 0.8252 - acc: 0.7136 - val_loss: 0.5209 - val_acc: 0.8228\n",
      "Epoch 2/20\n",
      "55000/55000 [==============================] - 7s 129us/sample - loss: 0.5085 - acc: 0.8207 - val_loss: 0.4590 - val_acc: 0.8390\n",
      "Epoch 3/20\n",
      "55000/55000 [==============================] - 7s 134us/sample - loss: 0.4498 - acc: 0.8403 - val_loss: 0.4110 - val_acc: 0.8566\n",
      "Epoch 4/20\n",
      "55000/55000 [==============================] - 7s 133us/sample - loss: 0.4165 - acc: 0.8535 - val_loss: 0.3845 - val_acc: 0.8630\n",
      "Epoch 5/20\n",
      "55000/55000 [==============================] - 8s 144us/sample - loss: 0.3920 - acc: 0.8596 - val_loss: 0.3789 - val_acc: 0.8664\n",
      "Epoch 6/20\n",
      "55000/55000 [==============================] - 8s 148us/sample - loss: 0.3744 - acc: 0.8674 - val_loss: 0.3820 - val_acc: 0.8684\n",
      "Epoch 7/20\n",
      "55000/55000 [==============================] - 8s 153us/sample - loss: 0.3623 - acc: 0.8690 - val_loss: 0.3790 - val_acc: 0.8626\n",
      "Epoch 8/20\n",
      "55000/55000 [==============================] - 8s 141us/sample - loss: 0.3490 - acc: 0.8750 - val_loss: 0.3651 - val_acc: 0.8698\n",
      "Epoch 9/20\n",
      "55000/55000 [==============================] - 8s 151us/sample - loss: 0.3381 - acc: 0.8776 - val_loss: 0.3855 - val_acc: 0.8608\n",
      "Epoch 10/20\n",
      "55000/55000 [==============================] - 8s 137us/sample - loss: 0.3272 - acc: 0.8808 - val_loss: 0.3681 - val_acc: 0.8666\n",
      "Epoch 11/20\n",
      "55000/55000 [==============================] - 8s 138us/sample - loss: 0.3202 - acc: 0.8827 - val_loss: 0.3442 - val_acc: 0.8750\n",
      "Epoch 12/20\n",
      "55000/55000 [==============================] - 8s 140us/sample - loss: 0.3113 - acc: 0.8861 - val_loss: 0.3380 - val_acc: 0.8742\n",
      "Epoch 13/20\n",
      "55000/55000 [==============================] - 8s 138us/sample - loss: 0.3053 - acc: 0.8875 - val_loss: 0.3311 - val_acc: 0.8798\n",
      "Epoch 14/20\n",
      "55000/55000 [==============================] - 8s 139us/sample - loss: 0.2981 - acc: 0.8910 - val_loss: 0.3301 - val_acc: 0.8824\n",
      "Epoch 15/20\n",
      "55000/55000 [==============================] - 7s 136us/sample - loss: 0.2901 - acc: 0.8930 - val_loss: 0.3479 - val_acc: 0.8762\n",
      "Epoch 16/20\n",
      "55000/55000 [==============================] - 8s 140us/sample - loss: 0.2855 - acc: 0.8953 - val_loss: 0.3262 - val_acc: 0.8806\n",
      "Epoch 17/20\n",
      "55000/55000 [==============================] - 7s 136us/sample - loss: 0.2789 - acc: 0.8967 - val_loss: 0.3168 - val_acc: 0.8852\n",
      "Epoch 18/20\n",
      "55000/55000 [==============================] - 8s 140us/sample - loss: 0.2745 - acc: 0.8988 - val_loss: 0.3369 - val_acc: 0.8792\n",
      "Epoch 19/20\n",
      "55000/55000 [==============================] - 8s 138us/sample - loss: 0.2683 - acc: 0.8993 - val_loss: 0.3263 - val_acc: 0.8844\n",
      "Epoch 20/20\n",
      "55000/55000 [==============================] - 8s 142us/sample - loss: 0.2640 - acc: 0.9017 - val_loss: 0.3266 - val_acc: 0.8840\n"
     ]
    }
   ],
   "source": [
    "## This will overwrite and save only best weight but will not stop\n",
    "checkpoint_cb = keras.callbacks.ModelCheckpoint(\"out/fashion_cp.h5\",\n",
    "                                                save_best_only=True)\n",
    "\n",
    "\n",
    "history = model.fit(X_train, y_train, epochs=20,\n",
    "                    validation_data=(X_valid, y_valid),\n",
    "                    callbacks=[checkpoint_cb])"
   ]
  },
  {
   "cell_type": "code",
   "execution_count": 10,
   "metadata": {},
   "outputs": [],
   "source": [
    "## Callback: Tensorboard\n",
    "import os\n",
    "root_logdir = os.path.join(os.curdir, \"out/tensorboard/fashion\")\n",
    "\n",
    "def get_run_logdir():\n",
    "    import time\n",
    "    run_id = time.strftime(\"run_%Y_%m_%d-%H_%M_%S\")\n",
    "    return os.path.join(root_logdir, run_id)\n",
    "\n",
    "run_logdir = get_run_logdir()\n",
    "\n",
    "model = keras.models.Sequential([\n",
    "    keras.layers.Flatten(input_shape=[28, 28]), # So that we don't have to do .reshape(-1,1)\n",
    "    keras.layers.Dense(100, activation=\"relu\"),  # Hidden (1)\n",
    "    keras.layers.Dense(100, activation=\"relu\"),  # Hidden (2)\n",
    "    keras.layers.Dense(100, activation=\"relu\"),  # Hidden (3)\n",
    "    keras.layers.Dense(100, activation=\"relu\"),  # Hidden (4)\n",
    "    keras.layers.Dense(10, activation=\"softmax\") # Output Layer, 10 classes, decide with softmax\n",
    "                                                 # Use sigmoid for 2\n",
    "])\n",
    "\n",
    "tensorboard_cb = keras.callbacks.TensorBoard(run_logdir)"
   ]
  },
  {
   "cell_type": "code",
   "execution_count": 11,
   "metadata": {},
   "outputs": [
    {
     "name": "stdout",
     "output_type": "stream",
     "text": [
      "Train on 55000 samples, validate on 5000 samples\n",
      "Epoch 1/10\n",
      "55000/55000 [==============================] - 8s 140us/sample - loss: 0.8449 - acc: 0.7003 - val_loss: 0.5562 - val_acc: 0.7996\n",
      "Epoch 2/10\n",
      "55000/55000 [==============================] - 7s 133us/sample - loss: 0.4954 - acc: 0.8255 - val_loss: 0.4467 - val_acc: 0.8448\n",
      "Epoch 3/10\n",
      "55000/55000 [==============================] - 7s 130us/sample - loss: 0.4415 - acc: 0.8436 - val_loss: 0.4297 - val_acc: 0.8474\n",
      "Epoch 4/10\n",
      "55000/55000 [==============================] - 7s 133us/sample - loss: 0.4093 - acc: 0.8532 - val_loss: 0.4168 - val_acc: 0.8528\n",
      "Epoch 5/10\n",
      "55000/55000 [==============================] - 8s 140us/sample - loss: 0.3858 - acc: 0.8611 - val_loss: 0.3653 - val_acc: 0.8668\n",
      "Epoch 6/10\n",
      "55000/55000 [==============================] - 8s 138us/sample - loss: 0.3692 - acc: 0.8664 - val_loss: 0.3549 - val_acc: 0.8714\n",
      "Epoch 7/10\n",
      "55000/55000 [==============================] - 8s 141us/sample - loss: 0.3561 - acc: 0.8697 - val_loss: 0.3726 - val_acc: 0.8658\n",
      "Epoch 8/10\n",
      "55000/55000 [==============================] - 8s 140us/sample - loss: 0.3414 - acc: 0.8754 - val_loss: 0.3387 - val_acc: 0.8760\n",
      "Epoch 9/10\n",
      "55000/55000 [==============================] - 8s 140us/sample - loss: 0.3321 - acc: 0.8787 - val_loss: 0.3381 - val_acc: 0.8794\n",
      "Epoch 10/10\n",
      "55000/55000 [==============================] - 8s 149us/sample - loss: 0.3213 - acc: 0.8836 - val_loss: 0.3359 - val_acc: 0.8792\n"
     ]
    }
   ],
   "source": [
    "model.compile(loss=\"sparse_categorical_crossentropy\", \n",
    "              optimizer=\"sgd\",\n",
    "              metrics=[\"accuracy\"])\n",
    "history = model.fit(X_train, y_train, epochs=10,\n",
    "                    validation_data=(X_valid, y_valid),\n",
    "                    callbacks=[tensorboard_cb])"
   ]
  },
  {
   "cell_type": "markdown",
   "metadata": {},
   "source": [
    "### Run tensorboard\n",
    "\n",
    "Tensorboard will detect subdirectory automatically\n",
    "```\n",
    "$ tensorboard --log-dir=out/tensorboard/fashion\n",
    "```"
   ]
  },
  {
   "cell_type": "markdown",
   "metadata": {},
   "source": [
    "## Early stopping "
   ]
  },
  {
   "cell_type": "code",
   "execution_count": 13,
   "metadata": {},
   "outputs": [],
   "source": [
    "## Stop the training when there's no more progress, and restore best weight\n",
    "early_stopping_cb = keras.callbacks.EarlyStopping(patience=10,\n",
    "                                                  restore_best_weights=True)\n",
    "\n",
    "## We actualy don't need to do this as early stopping will restore weights at the end\n",
    "checkpoint_cb = keras.callbacks.ModelCheckpoint(\"out/fashion_cp.h5\",\n",
    "                                                save_best_only=True)\n",
    "\n",
    "\n",
    "run_logdir = get_run_logdir()\n",
    "tensorboard_cb = keras.callbacks.TensorBoard(run_logdir)\n",
    "\n",
    "model = keras.models.Sequential([\n",
    "    keras.layers.Flatten(input_shape=[28, 28]), # So that we don't have to do .reshape(-1,1)\n",
    "    keras.layers.Dense(300, activation=\"relu\"),  # Hidden (1)\n",
    "    keras.layers.Dense(300, activation=\"relu\"),  # Hidden (2)\n",
    "    keras.layers.Dense(300, activation=\"relu\"),  # Hidden (3)\n",
    "    keras.layers.Dense(300, activation=\"relu\"),  # Hidden (4)\n",
    "    keras.layers.Dense(10, activation=\"softmax\") # Output Layer, 10 classes, decide with softmax\n",
    "                                                 # Use sigmoid for 2\n",
    "])\n",
    "model.compile(loss=\"sparse_categorical_crossentropy\", \n",
    "              optimizer=\"sgd\",\n",
    "              metrics=[\"accuracy\"])"
   ]
  },
  {
   "cell_type": "code",
   "execution_count": 14,
   "metadata": {},
   "outputs": [
    {
     "name": "stdout",
     "output_type": "stream",
     "text": [
      "Train on 55000 samples, validate on 5000 samples\n",
      "Epoch 1/1000\n",
      "55000/55000 [==============================] - 9s 171us/sample - loss: 0.7609 - acc: 0.7415 - val_loss: 0.5577 - val_acc: 0.7924\n",
      "Epoch 2/1000\n",
      "55000/55000 [==============================] - 9s 170us/sample - loss: 0.4797 - acc: 0.8301 - val_loss: 0.4568 - val_acc: 0.8408\n",
      "Epoch 3/1000\n",
      "55000/55000 [==============================] - 10s 178us/sample - loss: 0.4239 - acc: 0.8497 - val_loss: 0.3924 - val_acc: 0.8684\n",
      "Epoch 4/1000\n",
      "55000/55000 [==============================] - 10s 188us/sample - loss: 0.3907 - acc: 0.8606 - val_loss: 0.3656 - val_acc: 0.8712\n",
      "Epoch 5/1000\n",
      "55000/55000 [==============================] - 10s 175us/sample - loss: 0.3664 - acc: 0.8686 - val_loss: 0.3567 - val_acc: 0.8730\n",
      "Epoch 6/1000\n",
      "55000/55000 [==============================] - 9s 172us/sample - loss: 0.3480 - acc: 0.8735 - val_loss: 0.3486 - val_acc: 0.8758\n",
      "Epoch 7/1000\n",
      "55000/55000 [==============================] - 10s 184us/sample - loss: 0.3311 - acc: 0.8794 - val_loss: 0.3402 - val_acc: 0.8726\n",
      "Epoch 8/1000\n",
      "55000/55000 [==============================] - 10s 174us/sample - loss: 0.3181 - acc: 0.8845 - val_loss: 0.3394 - val_acc: 0.8796\n",
      "Epoch 9/1000\n",
      "55000/55000 [==============================] - 9s 173us/sample - loss: 0.3083 - acc: 0.8886 - val_loss: 0.3361 - val_acc: 0.8764\n",
      "Epoch 10/1000\n",
      "55000/55000 [==============================] - 9s 172us/sample - loss: 0.2973 - acc: 0.8905 - val_loss: 0.3443 - val_acc: 0.8712\n",
      "Epoch 11/1000\n",
      "55000/55000 [==============================] - 9s 172us/sample - loss: 0.2881 - acc: 0.8943 - val_loss: 0.3253 - val_acc: 0.8836\n",
      "Epoch 12/1000\n",
      "55000/55000 [==============================] - 10s 174us/sample - loss: 0.2796 - acc: 0.8981 - val_loss: 0.4041 - val_acc: 0.8516\n",
      "Epoch 13/1000\n",
      "55000/55000 [==============================] - 10s 178us/sample - loss: 0.2727 - acc: 0.8989 - val_loss: 0.3404 - val_acc: 0.8814\n",
      "Epoch 14/1000\n",
      "55000/55000 [==============================] - 10s 179us/sample - loss: 0.2643 - acc: 0.9041 - val_loss: 0.3052 - val_acc: 0.8874\n",
      "Epoch 15/1000\n",
      "55000/55000 [==============================] - 10s 177us/sample - loss: 0.2563 - acc: 0.9061 - val_loss: 0.3026 - val_acc: 0.8878\n",
      "Epoch 16/1000\n",
      "55000/55000 [==============================] - 10s 180us/sample - loss: 0.2503 - acc: 0.9077 - val_loss: 0.3039 - val_acc: 0.8868\n",
      "Epoch 17/1000\n",
      "55000/55000 [==============================] - 10s 177us/sample - loss: 0.2439 - acc: 0.9100 - val_loss: 0.3372 - val_acc: 0.8678\n",
      "Epoch 18/1000\n",
      "55000/55000 [==============================] - 10s 178us/sample - loss: 0.2383 - acc: 0.9122 - val_loss: 0.3042 - val_acc: 0.8930\n",
      "Epoch 19/1000\n",
      "55000/55000 [==============================] - 10s 176us/sample - loss: 0.2308 - acc: 0.9142 - val_loss: 0.2944 - val_acc: 0.8900\n",
      "Epoch 20/1000\n",
      "55000/55000 [==============================] - 10s 180us/sample - loss: 0.2255 - acc: 0.9161 - val_loss: 0.3058 - val_acc: 0.8888\n",
      "Epoch 21/1000\n",
      "55000/55000 [==============================] - 10s 177us/sample - loss: 0.2203 - acc: 0.9181 - val_loss: 0.3089 - val_acc: 0.8838\n",
      "Epoch 22/1000\n",
      "55000/55000 [==============================] - 10s 181us/sample - loss: 0.2147 - acc: 0.9207 - val_loss: 0.3208 - val_acc: 0.8822\n",
      "Epoch 23/1000\n",
      "55000/55000 [==============================] - 10s 190us/sample - loss: 0.2093 - acc: 0.9228 - val_loss: 0.2953 - val_acc: 0.8918\n",
      "Epoch 24/1000\n",
      "55000/55000 [==============================] - 11s 191us/sample - loss: 0.2047 - acc: 0.9241 - val_loss: 0.2918 - val_acc: 0.8952\n",
      "Epoch 25/1000\n",
      "55000/55000 [==============================] - 10s 178us/sample - loss: 0.1991 - acc: 0.9257 - val_loss: 0.3269 - val_acc: 0.8852\n",
      "Epoch 26/1000\n",
      "55000/55000 [==============================] - 10s 185us/sample - loss: 0.1939 - acc: 0.9290 - val_loss: 0.3096 - val_acc: 0.8918\n",
      "Epoch 27/1000\n",
      "55000/55000 [==============================] - 11s 192us/sample - loss: 0.1897 - acc: 0.9302 - val_loss: 0.2962 - val_acc: 0.8952\n",
      "Epoch 28/1000\n",
      "55000/55000 [==============================] - 9s 169us/sample - loss: 0.1851 - acc: 0.9312 - val_loss: 0.3230 - val_acc: 0.8806\n",
      "Epoch 29/1000\n",
      "55000/55000 [==============================] - 9s 166us/sample - loss: 0.1812 - acc: 0.9333 - val_loss: 0.2990 - val_acc: 0.8962\n",
      "Epoch 30/1000\n",
      "55000/55000 [==============================] - 10s 184us/sample - loss: 0.1747 - acc: 0.9355 - val_loss: 0.3282 - val_acc: 0.8870\n",
      "Epoch 31/1000\n",
      "55000/55000 [==============================] - 10s 179us/sample - loss: 0.1726 - acc: 0.9362 - val_loss: 0.2886 - val_acc: 0.8980\n",
      "Epoch 32/1000\n",
      "55000/55000 [==============================] - 10s 183us/sample - loss: 0.1670 - acc: 0.9381 - val_loss: 0.3203 - val_acc: 0.8920\n",
      "Epoch 33/1000\n",
      "55000/55000 [==============================] - 11s 203us/sample - loss: 0.1651 - acc: 0.9386 - val_loss: 0.3063 - val_acc: 0.8956\n",
      "Epoch 34/1000\n",
      "55000/55000 [==============================] - 10s 184us/sample - loss: 0.1588 - acc: 0.9413 - val_loss: 0.3034 - val_acc: 0.8934\n",
      "Epoch 35/1000\n",
      "55000/55000 [==============================] - 10s 189us/sample - loss: 0.1571 - acc: 0.9422 - val_loss: 0.3010 - val_acc: 0.8918\n",
      "Epoch 36/1000\n",
      "55000/55000 [==============================] - 10s 182us/sample - loss: 0.1519 - acc: 0.9432 - val_loss: 0.3205 - val_acc: 0.8934\n",
      "Epoch 37/1000\n",
      "55000/55000 [==============================] - 10s 182us/sample - loss: 0.1474 - acc: 0.9455 - val_loss: 0.3077 - val_acc: 0.8950\n",
      "Epoch 38/1000\n",
      "55000/55000 [==============================] - 10s 181us/sample - loss: 0.1446 - acc: 0.9464 - val_loss: 0.3059 - val_acc: 0.8974\n",
      "Epoch 39/1000\n",
      "55000/55000 [==============================] - 10s 184us/sample - loss: 0.1411 - acc: 0.9467 - val_loss: 0.3062 - val_acc: 0.8954\n",
      "Epoch 40/1000\n",
      "55000/55000 [==============================] - 11s 193us/sample - loss: 0.1365 - acc: 0.9495 - val_loss: 0.3305 - val_acc: 0.8958\n",
      "Epoch 41/1000\n",
      "55000/55000 [==============================] - 11s 204us/sample - loss: 0.1322 - acc: 0.9512 - val_loss: 0.3440 - val_acc: 0.8830\n"
     ]
    }
   ],
   "source": [
    "history = model.fit(X_train, y_train, epochs=1000,\n",
    "                    validation_data=(X_valid, y_valid),\n",
    "                    callbacks=[checkpoint_cb, early_stopping_cb, tensorboard_cb])"
   ]
  },
  {
   "cell_type": "code",
   "execution_count": 15,
   "metadata": {},
   "outputs": [],
   "source": [
    "model.save(\"out/fashion_earlystop.h5\")"
   ]
  },
  {
   "cell_type": "code",
   "execution_count": null,
   "metadata": {},
   "outputs": [],
   "source": []
  }
 ],
 "metadata": {
  "kernelspec": {
   "display_name": "Python 3",
   "language": "python",
   "name": "python3"
  },
  "language_info": {
   "codemirror_mode": {
    "name": "ipython",
    "version": 3
   },
   "file_extension": ".py",
   "mimetype": "text/x-python",
   "name": "python",
   "nbconvert_exporter": "python",
   "pygments_lexer": "ipython3",
   "version": "3.7.3"
  }
 },
 "nbformat": 4,
 "nbformat_minor": 2
}
