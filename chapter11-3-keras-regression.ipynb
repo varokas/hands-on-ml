{
 "cells": [
  {
   "cell_type": "markdown",
   "metadata": {},
   "source": [
    "# Nerual Net for Regression\n",
    "\n",
    "* Output Layer\n",
    "   * For each feature create an output neuron - the output is predicted value\n",
    "* Activation Function\n",
    "   * Don't use activation function, no value limit\n",
    "   * Maybe using RelU if output is always positive \n",
    "   * or softplus\n",
    "* Loss\n",
    "   1. Mean Squared Error\n",
    "   2. mean-absolute if many outliers\n",
    "   3. Huber is a combo of both"
   ]
  },
  {
   "cell_type": "code",
   "execution_count": 6,
   "metadata": {},
   "outputs": [],
   "source": [
    "import matplotlib.pyplot as plt\n",
    "import numpy as np\n",
    "\n",
    "from tensorflow import keras"
   ]
  },
  {
   "cell_type": "code",
   "execution_count": 13,
   "metadata": {},
   "outputs": [
    {
     "data": {
      "text/plain": [
       "<matplotlib.legend.Legend at 0x12d97eef0>"
      ]
     },
     "execution_count": 13,
     "metadata": {},
     "output_type": "execute_result"
    },
    {
     "data": {
      "image/png": "[encoded data removed]",
      "text/plain": [
       "<Figure size 432x288 with 1 Axes>"
      ]
     },
     "metadata": {
      "needs_background": "light"
     },
     "output_type": "display_data"
    }
   ],
   "source": [
    "# Softplus looks like this (compared to ReLU)\n",
    "xs = np.linspace(-5,5,100)\n",
    "ys_softplus = np.log(1 + np.exp(xs))\n",
    "ys_relu = np.maximum(xs, 0)\n",
    "plt.plot(xs,ys_softplus,label=\"SoftPlus\")\n",
    "plt.plot(xs,ys_relu,label=\"ReLU\")\n",
    "plt.title(\"SoftPlus vs ReLU\")\n",
    "plt.legend()"
   ]
  },
  {
   "cell_type": "markdown",
   "metadata": {},
   "source": [
    "## Try it Out\n",
    "* California housing dataset"
   ]
  },
  {
   "cell_type": "code",
   "execution_count": 28,
   "metadata": {},
   "outputs": [
    {
     "data": {
      "text/plain": [
       "8"
      ]
     },
     "execution_count": 28,
     "metadata": {},
     "output_type": "execute_result"
    }
   ],
   "source": [
    "# Load, Split and Scale \n",
    "from sklearn.datasets import fetch_california_housing\n",
    "from sklearn.model_selection import train_test_split\n",
    "\n",
    "housing = fetch_california_housing()\n",
    "X_train_full, X_test, y_train_full, y_test = train_test_split(\n",
    "    housing.data, housing.target, random_state=42)\n",
    "X_train, X_valid, y_train, y_valid = train_test_split(\n",
    "    X_train_full, y_train_full, random_state=42)\n",
    "\n",
    "from sklearn.pipeline import Pipeline\n",
    "from sklearn.preprocessing import StandardScaler\n",
    "from sklearn.compose import ColumnTransformer\n",
    "\n",
    "pipeline = Pipeline([\n",
    "    ('std_scaler', StandardScaler())\n",
    "])\n",
    "X_train = pipeline.fit_transform(X_train) # Fit and transform on training data\n",
    "X_valid = pipeline.transform(X_valid) #but use it on validation and test\n",
    "X_test = pipeline.transform(X_test)\n",
    "\n"
   ]
  },
  {
   "cell_type": "code",
   "execution_count": 39,
   "metadata": {},
   "outputs": [],
   "source": [
    "# Train\n",
    "model = keras.models.Sequential([\n",
    "    keras.layers.Dense(30, activation=\"relu\", input_shape=X_train.shape[1:]), #shape=[8]\n",
    "    keras.layers.Dense(1) # 1 output --> target (price) \n",
    "])\n",
    "model.compile(loss=\"mean_squared_error\", optimizer=\"sgd\")"
   ]
  },
  {
   "cell_type": "code",
   "execution_count": 40,
   "metadata": {},
   "outputs": [
    {
     "name": "stdout",
     "output_type": "stream",
     "text": [
      "Train on 11610 samples, validate on 3870 samples\n",
      "Epoch 1/20\n",
      "11610/11610 [==============================] - 0s 23us/sample - loss: 0.7805 - val_loss: 18.8909\n",
      "Epoch 2/20\n",
      "11610/11610 [==============================] - 0s 17us/sample - loss: 0.4959 - val_loss: 6.4702\n",
      "Epoch 3/20\n",
      "11610/11610 [==============================] - 0s 17us/sample - loss: 0.4641 - val_loss: 0.4350\n",
      "Epoch 4/20\n",
      "11610/11610 [==============================] - 0s 17us/sample - loss: 0.4137 - val_loss: 0.3823\n",
      "Epoch 5/20\n",
      "11610/11610 [==============================] - 0s 17us/sample - loss: 0.4068 - val_loss: 0.3759\n",
      "Epoch 6/20\n",
      "11610/11610 [==============================] - 0s 17us/sample - loss: 0.3974 - val_loss: 0.3772\n",
      "Epoch 7/20\n",
      "11610/11610 [==============================] - 0s 17us/sample - loss: 0.3939 - val_loss: 0.3904\n",
      "Epoch 8/20\n",
      "11610/11610 [==============================] - 0s 18us/sample - loss: 0.3850 - val_loss: 0.3868\n",
      "Epoch 9/20\n",
      "11610/11610 [==============================] - 0s 16us/sample - loss: 0.3806 - val_loss: 0.3863\n",
      "Epoch 10/20\n",
      "11610/11610 [==============================] - 0s 18us/sample - loss: 0.3767 - val_loss: 0.3840\n",
      "Epoch 11/20\n",
      "11610/11610 [==============================] - 0s 16us/sample - loss: 0.3713 - val_loss: 0.4332\n",
      "Epoch 12/20\n",
      "11610/11610 [==============================] - 0s 16us/sample - loss: 0.3678 - val_loss: 0.3489\n",
      "Epoch 13/20\n",
      "11610/11610 [==============================] - 0s 16us/sample - loss: 0.3682 - val_loss: 0.3471\n",
      "Epoch 14/20\n",
      "11610/11610 [==============================] - 0s 17us/sample - loss: 0.3676 - val_loss: 0.3493\n",
      "Epoch 15/20\n",
      "11610/11610 [==============================] - 0s 16us/sample - loss: 0.3588 - val_loss: 0.3739\n",
      "Epoch 16/20\n",
      "11610/11610 [==============================] - 0s 17us/sample - loss: 0.3573 - val_loss: 0.3352\n",
      "Epoch 17/20\n",
      "11610/11610 [==============================] - 0s 16us/sample - loss: 0.3570 - val_loss: 0.3702\n",
      "Epoch 18/20\n",
      "11610/11610 [==============================] - 0s 17us/sample - loss: 0.3573 - val_loss: 0.3599\n",
      "Epoch 19/20\n",
      "11610/11610 [==============================] - 0s 17us/sample - loss: 0.3654 - val_loss: 0.3327\n",
      "Epoch 20/20\n",
      "11610/11610 [==============================] - 0s 16us/sample - loss: 0.3570 - val_loss: 0.3397\n"
     ]
    }
   ],
   "source": [
    "history = model.fit(X_train, y_train, epochs=20, validation_data=(X_valid, y_valid)) #Same as classification"
   ]
  },
  {
   "cell_type": "code",
   "execution_count": 42,
   "metadata": {},
   "outputs": [
    {
     "name": "stdout",
     "output_type": "stream",
     "text": [
      "5160/5160 [==============================] - 0s 10us/sample - loss: 0.3498\n"
     ]
    },
    {
     "data": {
      "text/plain": [
       "0.34984456439350925"
      ]
     },
     "execution_count": 42,
     "metadata": {},
     "output_type": "execute_result"
    }
   ],
   "source": [
    "model.evaluate(X_test, y_test) ## Accuracy has no meaning here. only loss matters"
   ]
  },
  {
   "cell_type": "code",
   "execution_count": 41,
   "metadata": {},
   "outputs": [
    {
     "data": {
      "image/png": "[encoded data removed]",
      "text/plain": [
       "<Figure size 720x576 with 1 Axes>"
      ]
     },
     "metadata": {
      "needs_background": "light"
     },
     "output_type": "display_data"
    }
   ],
   "source": [
    "import pandas as pd\n",
    "import matplotlib.pyplot as plt\n",
    "\n",
    "\n",
    "pd.DataFrame(history.history).plot(figsize=(10, 8))\n",
    "plt.grid(True)\n",
    "plt.show()"
   ]
  },
  {
   "cell_type": "markdown",
   "metadata": {},
   "source": [
    "## Predict"
   ]
  },
  {
   "cell_type": "code",
   "execution_count": 49,
   "metadata": {},
   "outputs": [
    {
     "data": {
      "text/plain": [
       "(array([[0.5157758],\n",
       "        [1.6753389],\n",
       "        [4.123616 ],\n",
       "        [2.708155 ],\n",
       "        [2.9497805],\n",
       "        [1.7348344],\n",
       "        [2.5963998],\n",
       "        [1.6152786],\n",
       "        [2.6551921],\n",
       "        [4.0983744]], dtype=float32),\n",
       " array([0.477  , 0.458  , 5.00001, 2.186  , 2.78   , 1.587  , 1.982  ,\n",
       "        1.575  , 3.4    , 4.466  ]))"
      ]
     },
     "execution_count": 49,
     "metadata": {},
     "output_type": "execute_result"
    }
   ],
   "source": [
    "model.predict(X_test[:10]), y_test[:10]"
   ]
  }
 ],
 "metadata": {
  "kernelspec": {
   "display_name": "hands-on-ml",
   "language": "python",
   "name": "myenv"
  },
  "language_info": {
   "codemirror_mode": {
    "name": "ipython",
    "version": 3
   },
   "file_extension": ".py",
   "mimetype": "text/x-python",
   "name": "python",
   "nbconvert_exporter": "python",
   "pygments_lexer": "ipython3",
   "version": "3.7.3"
  }
 },
 "nbformat": 4,
 "nbformat_minor": 2
}
