{
 "cells": [
  {
   "cell_type": "markdown",
   "metadata": {},
   "source": [
    "# Keras Basics"
   ]
  },
  {
   "cell_type": "code",
   "execution_count": 1,
   "metadata": {},
   "outputs": [],
   "source": [
    "#!pip install tensorflow==2.0.0-beta1 \n",
    "\n",
    "# 1. PlaidML-0.6 sadly does not work, yields nan as loss\n",
    "# 2. Tensorflow 1.0 breaks when training in Jupyter"
   ]
  },
  {
   "cell_type": "code",
   "execution_count": 2,
   "metadata": {},
   "outputs": [],
   "source": [
    "import tensorflow\n",
    "from tensorflow import keras ## Use Keras from Tensorflow to work\n",
    "import matplotlib.pyplot as plt"
   ]
  },
  {
   "cell_type": "markdown",
   "metadata": {},
   "source": [
    "## Prepare Dataset"
   ]
  },
  {
   "cell_type": "code",
   "execution_count": 3,
   "metadata": {},
   "outputs": [
    {
     "data": {
      "text/plain": [
       "((60000, 28, 28), (60000,))"
      ]
     },
     "execution_count": 3,
     "metadata": {},
     "output_type": "execute_result"
    }
   ],
   "source": [
    "# Load Dataset (fashion MNIST)\n",
    "\n",
    "fashion = keras.datasets.fashion_mnist\n",
    "(X_train_full, y_train_full), (X_test, y_test) = fashion.load_data()\n",
    "\n",
    "X_train_full.shape, y_train_full.shape"
   ]
  },
  {
   "cell_type": "code",
   "execution_count": 4,
   "metadata": {},
   "outputs": [
    {
     "data": {
      "text/plain": [
       "'T-shirt/top'"
      ]
     },
     "execution_count": 4,
     "metadata": {},
     "output_type": "execute_result"
    },
    {
     "data": {
      "image/png": "[encoded data removed]",
      "text/plain": [
       "<Figure size 432x288 with 1 Axes>"
      ]
     },
     "metadata": {
      "needs_background": "light"
     },
     "output_type": "display_data"
    }
   ],
   "source": [
    "# https://github.com/zalandoresearch/fashion-mnist\n",
    "class_names = [\"T-shirt/top\", \"Trouser\", \"Pullover\", \"Dress\", \"Coat\",\n",
    "               \"Sandal\", \"Shirt\", \"Sneaker\", \"Bag\", \"Ankle boot\"]\n",
    "\n",
    "plt.imshow(X_train_full[1], cmap='gray')\n",
    "class_names[ y_train_full[1] ]"
   ]
  },
  {
   "cell_type": "code",
   "execution_count": 5,
   "metadata": {},
   "outputs": [
    {
     "data": {
      "text/plain": [
       "(255, 0)"
      ]
     },
     "execution_count": 5,
     "metadata": {},
     "output_type": "execute_result"
    }
   ],
   "source": [
    "X_train_full[0].max(), X_train_full[0].min()  ## pixel from 0 -> 255, needs to scale it to 0 -> 1"
   ]
  },
  {
   "cell_type": "code",
   "execution_count": 6,
   "metadata": {},
   "outputs": [
    {
     "data": {
      "text/plain": [
       "dtype('float32')"
      ]
     },
     "execution_count": 6,
     "metadata": {},
     "output_type": "execute_result"
    }
   ],
   "source": [
    "X_train_scaled = X_train_full.astype('float32')/255.0\n",
    "X_train_scaled.dtype"
   ]
  },
  {
   "cell_type": "markdown",
   "metadata": {},
   "source": [
    "## Define Model"
   ]
  },
  {
   "cell_type": "code",
   "execution_count": 7,
   "metadata": {},
   "outputs": [],
   "source": [
    "model = keras.models.Sequential([\n",
    "    keras.layers.Flatten(input_shape=[28, 28]), # So that we don't have to do .reshape(-1,1)\n",
    "    keras.layers.Dense(300, activation=\"relu\"),  # Hidden (1)\n",
    "    keras.layers.Dense(100, activation=\"relu\"),  # Hidden (2)\n",
    "    keras.layers.Dense(10, activation=\"softmax\") # Output Layer, 10 classes, decide with softmax\n",
    "                                                 # Use sigmoid for 2\n",
    "])"
   ]
  },
  {
   "cell_type": "code",
   "execution_count": 8,
   "metadata": {},
   "outputs": [
    {
     "name": "stdout",
     "output_type": "stream",
     "text": [
      "Model: \"sequential\"\n",
      "_________________________________________________________________\n",
      "Layer (type)                 Output Shape              Param #   \n",
      "=================================================================\n",
      "flatten (Flatten)            (None, 784)               0         \n",
      "_________________________________________________________________\n",
      "dense (Dense)                (None, 300)               235500    \n",
      "_________________________________________________________________\n",
      "dense_1 (Dense)              (None, 100)               30100     \n",
      "_________________________________________________________________\n",
      "dense_2 (Dense)              (None, 10)                1010      \n",
      "=================================================================\n",
      "Total params: 266,610\n",
      "Trainable params: 266,610\n",
      "Non-trainable params: 0\n",
      "_________________________________________________________________\n"
     ]
    }
   ],
   "source": [
    "model.summary()"
   ]
  },
  {
   "cell_type": "code",
   "execution_count": 9,
   "metadata": {},
   "outputs": [],
   "source": [
    "# https://keras.io/losses/\n",
    "# https://keras.io/optimizers/ \n",
    "# https://keras.io/metrics/\n",
    "\n",
    "# sparse_categorical_crossentropy -- 1 target class, exclusive\n",
    "# categorical_crossentropy -- Probability per class , keras.utils.to_categorical() to convert\n",
    "# binary_crossentropy -- 2 classes\n",
    "model.compile(loss=\"sparse_categorical_crossentropy\", \n",
    "              optimizer=\"sgd\",\n",
    "              metrics=[\"accuracy\"])"
   ]
  },
  {
   "cell_type": "markdown",
   "metadata": {},
   "source": [
    "## Training"
   ]
  },
  {
   "cell_type": "code",
   "execution_count": 10,
   "metadata": {},
   "outputs": [],
   "source": [
    "X_valid, X_train = X_train_scaled[:5000], X_train_scaled[5000:]\n",
    "y_valid, y_train = y_train_full[:5000], y_train_full[5000:]"
   ]
  },
  {
   "cell_type": "code",
   "execution_count": 11,
   "metadata": {},
   "outputs": [
    {
     "name": "stderr",
     "output_type": "stream",
     "text": [
      "WARNING: Logging before flag parsing goes to stderr.\n",
      "W0711 00:59:27.789554 4429465024 deprecation.py:323] From /usr/local/anaconda3/envs/hands-on-ml/lib/python3.7/site-packages/tensorflow/python/ops/math_grad.py:1250: add_dispatch_support.<locals>.wrapper (from tensorflow.python.ops.array_ops) is deprecated and will be removed in a future version.\n",
      "Instructions for updating:\n",
      "Use tf.where in 2.0, which has the same broadcast rule as np.where\n"
     ]
    },
    {
     "name": "stdout",
     "output_type": "stream",
     "text": [
      "Train on 55000 samples, validate on 5000 samples\n",
      "Epoch 1/30\n",
      "55000/55000 [==============================] - 2s 34us/sample - loss: 0.7246 - accuracy: 0.7599 - val_loss: 0.5125 - val_accuracy: 0.8298\n",
      "Epoch 2/30\n",
      "55000/55000 [==============================] - 2s 28us/sample - loss: 0.4886 - accuracy: 0.8293 - val_loss: 0.4391 - val_accuracy: 0.8502\n",
      "Epoch 3/30\n",
      "55000/55000 [==============================] - 2s 28us/sample - loss: 0.4434 - accuracy: 0.8455 - val_loss: 0.4097 - val_accuracy: 0.8604\n",
      "Epoch 4/30\n",
      "55000/55000 [==============================] - 2s 28us/sample - loss: 0.4169 - accuracy: 0.8530 - val_loss: 0.4011 - val_accuracy: 0.8642\n",
      "Epoch 5/30\n",
      "55000/55000 [==============================] - 2s 28us/sample - loss: 0.3960 - accuracy: 0.8607 - val_loss: 0.3826 - val_accuracy: 0.8668\n",
      "Epoch 6/30\n",
      "55000/55000 [==============================] - 2s 28us/sample - loss: 0.3810 - accuracy: 0.8657 - val_loss: 0.3600 - val_accuracy: 0.8778\n",
      "Epoch 7/30\n",
      "55000/55000 [==============================] - 2s 29us/sample - loss: 0.3669 - accuracy: 0.8705 - val_loss: 0.3604 - val_accuracy: 0.8774\n",
      "Epoch 8/30\n",
      "55000/55000 [==============================] - 2s 29us/sample - loss: 0.3558 - accuracy: 0.8742 - val_loss: 0.3831 - val_accuracy: 0.8644\n",
      "Epoch 9/30\n",
      "55000/55000 [==============================] - 2s 29us/sample - loss: 0.3447 - accuracy: 0.8776 - val_loss: 0.3487 - val_accuracy: 0.8770\n",
      "Epoch 10/30\n",
      "55000/55000 [==============================] - 2s 29us/sample - loss: 0.3367 - accuracy: 0.8790 - val_loss: 0.3433 - val_accuracy: 0.8784\n",
      "Epoch 11/30\n",
      "55000/55000 [==============================] - 2s 30us/sample - loss: 0.3285 - accuracy: 0.8831 - val_loss: 0.3553 - val_accuracy: 0.8766\n",
      "Epoch 12/30\n",
      "55000/55000 [==============================] - 2s 30us/sample - loss: 0.3197 - accuracy: 0.8859 - val_loss: 0.3438 - val_accuracy: 0.8814\n",
      "Epoch 13/30\n",
      "55000/55000 [==============================] - 2s 30us/sample - loss: 0.3127 - accuracy: 0.8877 - val_loss: 0.3395 - val_accuracy: 0.8800\n",
      "Epoch 14/30\n",
      "55000/55000 [==============================] - 2s 30us/sample - loss: 0.3054 - accuracy: 0.8900 - val_loss: 0.3500 - val_accuracy: 0.8746\n",
      "Epoch 15/30\n",
      "55000/55000 [==============================] - 2s 35us/sample - loss: 0.2993 - accuracy: 0.8918 - val_loss: 0.3438 - val_accuracy: 0.8794\n",
      "Epoch 16/30\n",
      "55000/55000 [==============================] - 2s 32us/sample - loss: 0.2940 - accuracy: 0.8945 - val_loss: 0.3184 - val_accuracy: 0.8860\n",
      "Epoch 17/30\n",
      "55000/55000 [==============================] - 2s 32us/sample - loss: 0.2874 - accuracy: 0.8966 - val_loss: 0.3162 - val_accuracy: 0.8904\n",
      "Epoch 18/30\n",
      "55000/55000 [==============================] - 2s 32us/sample - loss: 0.2827 - accuracy: 0.8982 - val_loss: 0.3112 - val_accuracy: 0.8868\n",
      "Epoch 19/30\n",
      "55000/55000 [==============================] - 2s 34us/sample - loss: 0.2767 - accuracy: 0.8994 - val_loss: 0.3564 - val_accuracy: 0.8682\n",
      "Epoch 20/30\n",
      "55000/55000 [==============================] - 2s 34us/sample - loss: 0.2715 - accuracy: 0.9018 - val_loss: 0.3233 - val_accuracy: 0.8878\n",
      "Epoch 21/30\n",
      "55000/55000 [==============================] - 2s 34us/sample - loss: 0.2671 - accuracy: 0.9023 - val_loss: 0.3043 - val_accuracy: 0.8892\n",
      "Epoch 22/30\n",
      "55000/55000 [==============================] - 2s 36us/sample - loss: 0.2620 - accuracy: 0.9052 - val_loss: 0.3257 - val_accuracy: 0.8824\n",
      "Epoch 23/30\n",
      "55000/55000 [==============================] - 2s 36us/sample - loss: 0.2570 - accuracy: 0.9072 - val_loss: 0.3071 - val_accuracy: 0.8866\n",
      "Epoch 24/30\n",
      "55000/55000 [==============================] - 2s 37us/sample - loss: 0.2524 - accuracy: 0.9102 - val_loss: 0.3092 - val_accuracy: 0.8908\n",
      "Epoch 25/30\n",
      "55000/55000 [==============================] - 2s 37us/sample - loss: 0.2499 - accuracy: 0.9100 - val_loss: 0.3143 - val_accuracy: 0.8860\n",
      "Epoch 26/30\n",
      "55000/55000 [==============================] - 2s 37us/sample - loss: 0.2439 - accuracy: 0.9126 - val_loss: 0.3157 - val_accuracy: 0.8898\n",
      "Epoch 27/30\n",
      "55000/55000 [==============================] - 2s 40us/sample - loss: 0.2405 - accuracy: 0.9137 - val_loss: 0.3002 - val_accuracy: 0.8934\n",
      "Epoch 28/30\n",
      "55000/55000 [==============================] - 2s 32us/sample - loss: 0.2363 - accuracy: 0.9146 - val_loss: 0.2994 - val_accuracy: 0.8948\n",
      "Epoch 29/30\n",
      "55000/55000 [==============================] - 2s 33us/sample - loss: 0.2326 - accuracy: 0.9161 - val_loss: 0.2981 - val_accuracy: 0.8952\n",
      "Epoch 30/30\n",
      "55000/55000 [==============================] - 2s 33us/sample - loss: 0.2285 - accuracy: 0.9181 - val_loss: 0.2970 - val_accuracy: 0.8910\n"
     ]
    }
   ],
   "source": [
    "history = model.fit(X_train, y_train, epochs=30, validation_data=(X_valid, y_valid))"
   ]
  },
  {
   "cell_type": "code",
   "execution_count": 14,
   "metadata": {},
   "outputs": [
    {
     "data": {
      "image/png": "[encoded data removed]",
      "text/plain": [
       "<Figure size 720x576 with 1 Axes>"
      ]
     },
     "metadata": {
      "needs_background": "light"
     },
     "output_type": "display_data"
    }
   ],
   "source": [
    "import pandas as pd\n",
    "import matplotlib.pyplot as plt\n",
    "\n",
    "\n",
    "pd.DataFrame(history.history).plot(figsize=(10, 8))\n",
    "plt.grid(True)\n",
    "plt.show()"
   ]
  },
  {
   "cell_type": "code",
   "execution_count": 19,
   "metadata": {},
   "outputs": [
    {
     "name": "stdout",
     "output_type": "stream",
     "text": [
      "10000/10000 [==============================] - 0s 18us/sample - loss: 2.4219 - accuracy: 0.8484\n"
     ]
    },
    {
     "data": {
      "text/plain": [
       "[2.4218556024551376, 0.8484]"
      ]
     },
     "execution_count": 19,
     "metadata": {},
     "output_type": "execute_result"
    }
   ],
   "source": [
    "model.evaluate(X_test, y_test)"
   ]
  },
  {
   "cell_type": "code",
   "execution_count": null,
   "metadata": {},
   "outputs": [],
   "source": []
  }
 ],
 "metadata": {
  "kernelspec": {
   "display_name": "hands-on-ml",
   "language": "python",
   "name": "myenv"
  },
  "language_info": {
   "codemirror_mode": {
    "name": "ipython",
    "version": 3
   },
   "file_extension": ".py",
   "mimetype": "text/x-python",
   "name": "python",
   "nbconvert_exporter": "python",
   "pygments_lexer": "ipython3",
   "version": "3.7.3"
  }
 },
 "nbformat": 4,
 "nbformat_minor": 2
}
