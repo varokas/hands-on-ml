{
 "cells": [
  {
   "cell_type": "markdown",
   "metadata": {},
   "source": [
    "# Keras Basics"
   ]
  },
  {
   "cell_type": "code",
   "execution_count": 1,
   "metadata": {},
   "outputs": [],
   "source": [
    "#!pip install tensorflow==2.0.0-beta1 \n",
    "\n",
    "# 1. PlaidML-0.6 sadly does not work, yields nan as loss\n",
    "# 2. Tensorflow 1.0 breaks when training in Jupyter"
   ]
  },
  {
   "cell_type": "code",
   "execution_count": 2,
   "metadata": {},
   "outputs": [],
   "source": [
    "import tensorflow\n",
    "from tensorflow import keras ## Use Keras from Tensorflow to work\n",
    "import matplotlib.pyplot as plt"
   ]
  },
  {
   "cell_type": "markdown",
   "metadata": {},
   "source": [
    "## Prepare Dataset"
   ]
  },
  {
   "cell_type": "code",
   "execution_count": 3,
   "metadata": {},
   "outputs": [
    {
     "data": {
      "text/plain": [
       "((60000, 28, 28), (60000,))"
      ]
     },
     "execution_count": 3,
     "metadata": {},
     "output_type": "execute_result"
    }
   ],
   "source": [
    "# Load Dataset (fashion MNIST)\n",
    "\n",
    "fashion = keras.datasets.fashion_mnist\n",
    "(X_train_full, y_train_full), (X_test, y_test) = fashion.load_data()\n",
    "\n",
    "X_train_full.shape, y_train_full.shape"
   ]
  },
  {
   "cell_type": "code",
   "execution_count": 4,
   "metadata": {},
   "outputs": [
    {
     "data": {
      "text/plain": [
       "'T-shirt/top'"
      ]
     },
     "execution_count": 4,
     "metadata": {},
     "output_type": "execute_result"
    },
    {
     "data": {
      "image/png": "[encoded data removed]",
      "text/plain": [
       "<Figure size 432x288 with 1 Axes>"
      ]
     },
     "metadata": {
      "needs_background": "light"
     },
     "output_type": "display_data"
    }
   ],
   "source": [
    "# https://github.com/zalandoresearch/fashion-mnist\n",
    "class_names = [\"T-shirt/top\", \"Trouser\", \"Pullover\", \"Dress\", \"Coat\",\n",
    "               \"Sandal\", \"Shirt\", \"Sneaker\", \"Bag\", \"Ankle boot\"]\n",
    "\n",
    "plt.imshow(X_train_full[1], cmap='gray')\n",
    "class_names[ y_train_full[1] ]"
   ]
  },
  {
   "cell_type": "code",
   "execution_count": 5,
   "metadata": {},
   "outputs": [
    {
     "data": {
      "text/plain": [
       "(255, 0)"
      ]
     },
     "execution_count": 5,
     "metadata": {},
     "output_type": "execute_result"
    }
   ],
   "source": [
    "X_train_full[0].max(), X_train_full[0].min()  ## pixel from 0 -> 255, needs to scale it to 0 -> 1"
   ]
  },
  {
   "cell_type": "code",
   "execution_count": 6,
   "metadata": {},
   "outputs": [
    {
     "data": {
      "text/plain": [
       "dtype('float32')"
      ]
     },
     "execution_count": 6,
     "metadata": {},
     "output_type": "execute_result"
    }
   ],
   "source": [
    "X_train_scaled = X_train_full.astype('float32')/255.0\n",
    "X_train_scaled.dtype"
   ]
  },
  {
   "cell_type": "markdown",
   "metadata": {},
   "source": [
    "## Define Model"
   ]
  },
  {
   "cell_type": "code",
   "execution_count": 7,
   "metadata": {},
   "outputs": [],
   "source": [
    "model = keras.models.Sequential([\n",
    "    keras.layers.Flatten(input_shape=[28, 28]), # So that we don't have to do .reshape(-1,1)\n",
    "    keras.layers.Dense(300, activation=\"relu\"),  # Hidden (1)\n",
    "    keras.layers.Dense(100, activation=\"relu\"),  # Hidden (2)\n",
    "    keras.layers.Dense(10, activation=\"softmax\") # Output Layer, 10 classes, decide with softmax\n",
    "                                                 # Use sigmoid for 2\n",
    "])"
   ]
  },
  {
   "cell_type": "code",
   "execution_count": 8,
   "metadata": {},
   "outputs": [
    {
     "name": "stdout",
     "output_type": "stream",
     "text": [
      "Model: \"sequential\"\n",
      "_________________________________________________________________\n",
      "Layer (type)                 Output Shape              Param #   \n",
      "=================================================================\n",
      "flatten (Flatten)            (None, 784)               0         \n",
      "_________________________________________________________________\n",
      "dense (Dense)                (None, 300)               235500    \n",
      "_________________________________________________________________\n",
      "dense_1 (Dense)              (None, 100)               30100     \n",
      "_________________________________________________________________\n",
      "dense_2 (Dense)              (None, 10)                1010      \n",
      "=================================================================\n",
      "Total params: 266,610\n",
      "Trainable params: 266,610\n",
      "Non-trainable params: 0\n",
      "_________________________________________________________________\n"
     ]
    }
   ],
   "source": [
    "model.summary()"
   ]
  },
  {
   "cell_type": "code",
   "execution_count": 9,
   "metadata": {},
   "outputs": [],
   "source": [
    "# https://keras.io/losses/\n",
    "# https://keras.io/optimizers/ \n",
    "# https://keras.io/metrics/\n",
    "\n",
    "# sparse_categorical_crossentropy -- 1 target class, exclusive\n",
    "# categorical_crossentropy -- Probability per class , keras.utils.to_categorical() to convert\n",
    "# binary_crossentropy -- 2 classes\n",
    "model.compile(loss=\"sparse_categorical_crossentropy\", \n",
    "              optimizer=\"sgd\",\n",
    "              metrics=[\"accuracy\"])"
   ]
  },
  {
   "cell_type": "markdown",
   "metadata": {},
   "source": [
    "## Training"
   ]
  },
  {
   "cell_type": "code",
   "execution_count": 10,
   "metadata": {},
   "outputs": [],
   "source": [
    "X_valid, X_train = X_train_scaled[:5000], X_train_scaled[5000:]\n",
    "y_valid, y_train = y_train_full[:5000], y_train_full[5000:]"
   ]
  },
  {
   "cell_type": "code",
   "execution_count": 11,
   "metadata": {},
   "outputs": [
    {
     "name": "stderr",
     "output_type": "stream",
     "text": [
      "WARNING: Logging before flag parsing goes to stderr.\n",
      "W0712 22:47:01.424597 4370695616 deprecation.py:323] From /usr/local/anaconda3/envs/hands-on-ml/lib/python3.7/site-packages/tensorflow/python/ops/math_grad.py:1250: add_dispatch_support.<locals>.wrapper (from tensorflow.python.ops.array_ops) is deprecated and will be removed in a future version.\n",
      "Instructions for updating:\n",
      "Use tf.where in 2.0, which has the same broadcast rule as np.where\n"
     ]
    },
    {
     "name": "stdout",
     "output_type": "stream",
     "text": [
      "Train on 55000 samples, validate on 5000 samples\n",
      "Epoch 1/20\n",
      "55000/55000 [==============================] - 2s 31us/sample - loss: 0.7303 - accuracy: 0.7588 - val_loss: 0.5392 - val_accuracy: 0.8104\n",
      "Epoch 2/20\n",
      "55000/55000 [==============================] - 1s 26us/sample - loss: 0.4927 - accuracy: 0.8283 - val_loss: 0.4749 - val_accuracy: 0.8334\n",
      "Epoch 3/20\n",
      "55000/55000 [==============================] - 1s 26us/sample - loss: 0.4473 - accuracy: 0.8440 - val_loss: 0.4160 - val_accuracy: 0.8572\n",
      "Epoch 4/20\n",
      "55000/55000 [==============================] - 2s 28us/sample - loss: 0.4194 - accuracy: 0.8522 - val_loss: 0.3962 - val_accuracy: 0.8630\n",
      "Epoch 5/20\n",
      "55000/55000 [==============================] - 1s 26us/sample - loss: 0.4005 - accuracy: 0.8606 - val_loss: 0.4358 - val_accuracy: 0.8434\n",
      "Epoch 6/20\n",
      "55000/55000 [==============================] - 2s 28us/sample - loss: 0.3838 - accuracy: 0.8652 - val_loss: 0.3817 - val_accuracy: 0.8718\n",
      "Epoch 7/20\n",
      "55000/55000 [==============================] - 1s 27us/sample - loss: 0.3703 - accuracy: 0.8689 - val_loss: 0.3756 - val_accuracy: 0.8686\n",
      "Epoch 8/20\n",
      "55000/55000 [==============================] - 1s 27us/sample - loss: 0.3592 - accuracy: 0.8730 - val_loss: 0.3598 - val_accuracy: 0.8774\n",
      "Epoch 9/20\n",
      "55000/55000 [==============================] - 2s 27us/sample - loss: 0.3486 - accuracy: 0.8770 - val_loss: 0.3456 - val_accuracy: 0.8780\n",
      "Epoch 10/20\n",
      "55000/55000 [==============================] - 1s 27us/sample - loss: 0.3388 - accuracy: 0.8793 - val_loss: 0.3521 - val_accuracy: 0.8748\n",
      "Epoch 11/20\n",
      "55000/55000 [==============================] - 2s 27us/sample - loss: 0.3297 - accuracy: 0.8825 - val_loss: 0.3384 - val_accuracy: 0.8798\n",
      "Epoch 12/20\n",
      "55000/55000 [==============================] - 2s 28us/sample - loss: 0.3218 - accuracy: 0.8851 - val_loss: 0.3487 - val_accuracy: 0.8760\n",
      "Epoch 13/20\n",
      "55000/55000 [==============================] - 2s 28us/sample - loss: 0.3149 - accuracy: 0.8875 - val_loss: 0.3416 - val_accuracy: 0.8784\n",
      "Epoch 14/20\n",
      "55000/55000 [==============================] - 2s 29us/sample - loss: 0.3069 - accuracy: 0.8899 - val_loss: 0.3324 - val_accuracy: 0.8824\n",
      "Epoch 15/20\n",
      "55000/55000 [==============================] - 1s 27us/sample - loss: 0.3005 - accuracy: 0.8923 - val_loss: 0.3188 - val_accuracy: 0.8858\n",
      "Epoch 16/20\n",
      "55000/55000 [==============================] - 1s 27us/sample - loss: 0.2944 - accuracy: 0.8952 - val_loss: 0.3265 - val_accuracy: 0.8824\n",
      "Epoch 17/20\n",
      "55000/55000 [==============================] - 1s 27us/sample - loss: 0.2884 - accuracy: 0.8959 - val_loss: 0.3205 - val_accuracy: 0.8824\n",
      "Epoch 18/20\n",
      "55000/55000 [==============================] - 2s 28us/sample - loss: 0.2825 - accuracy: 0.8990 - val_loss: 0.3161 - val_accuracy: 0.8850\n",
      "Epoch 19/20\n",
      "55000/55000 [==============================] - 2s 30us/sample - loss: 0.2778 - accuracy: 0.9000 - val_loss: 0.3109 - val_accuracy: 0.8868\n",
      "Epoch 20/20\n",
      "55000/55000 [==============================] - 1s 27us/sample - loss: 0.2719 - accuracy: 0.9020 - val_loss: 0.3133 - val_accuracy: 0.8886\n"
     ]
    }
   ],
   "source": [
    "history = model.fit(X_train, y_train, epochs=20, validation_data=(X_valid, y_valid))"
   ]
  },
  {
   "cell_type": "markdown",
   "metadata": {},
   "source": [
    "## Evaluation"
   ]
  },
  {
   "cell_type": "code",
   "execution_count": 12,
   "metadata": {},
   "outputs": [
    {
     "data": {
      "image/png": "[encoded data removed]",
      "text/plain": [
       "<Figure size 720x576 with 1 Axes>"
      ]
     },
     "metadata": {
      "needs_background": "light"
     },
     "output_type": "display_data"
    }
   ],
   "source": [
    "import pandas as pd\n",
    "import matplotlib.pyplot as plt\n",
    "\n",
    "\n",
    "pd.DataFrame(history.history).plot(figsize=(10, 8))\n",
    "plt.grid(True)\n",
    "plt.show()"
   ]
  },
  {
   "cell_type": "code",
   "execution_count": 13,
   "metadata": {},
   "outputs": [
    {
     "name": "stdout",
     "output_type": "stream",
     "text": [
      "10000/10000 [==============================] - 0s 15us/sample - loss: 2.6555 - accuracy: 0.8327\n"
     ]
    },
    {
     "data": {
      "text/plain": [
       "[2.6554589996337863, 0.8327]"
      ]
     },
     "execution_count": 13,
     "metadata": {},
     "output_type": "execute_result"
    }
   ],
   "source": [
    "model.evaluate(X_test, y_test) # Show Loss and Accuracy"
   ]
  },
  {
   "cell_type": "markdown",
   "metadata": {},
   "source": [
    "* Both training and validation accuracy increased (good - not overfit)\n",
    "* Training error is at the beginning, validation is at end of epoch\n",
    "* Training performance usually ends up better than validation\n",
    "* Validation loss still going down --> not converged yet\n",
    "* `.fit()` would pickup where we left off"
   ]
  },
  {
   "cell_type": "code",
   "execution_count": 14,
   "metadata": {},
   "outputs": [
    {
     "name": "stdout",
     "output_type": "stream",
     "text": [
      "Train on 55000 samples, validate on 5000 samples\n",
      "Epoch 1/10\n",
      "55000/55000 [==============================] - 1s 27us/sample - loss: 0.2669 - accuracy: 0.9049 - val_loss: 0.3029 - val_accuracy: 0.8884\n",
      "Epoch 2/10\n",
      "55000/55000 [==============================] - 1s 27us/sample - loss: 0.2624 - accuracy: 0.9064 - val_loss: 0.3056 - val_accuracy: 0.8870\n",
      "Epoch 3/10\n",
      "55000/55000 [==============================] - 1s 26us/sample - loss: 0.2567 - accuracy: 0.9078 - val_loss: 0.3165 - val_accuracy: 0.8874\n",
      "Epoch 4/10\n",
      "55000/55000 [==============================] - 1s 26us/sample - loss: 0.2530 - accuracy: 0.9094 - val_loss: 0.3105 - val_accuracy: 0.8884\n",
      "Epoch 5/10\n",
      "55000/55000 [==============================] - 1s 26us/sample - loss: 0.2480 - accuracy: 0.9108 - val_loss: 0.3014 - val_accuracy: 0.8912\n",
      "Epoch 6/10\n",
      "55000/55000 [==============================] - 1s 26us/sample - loss: 0.2442 - accuracy: 0.9126 - val_loss: 0.3031 - val_accuracy: 0.8890\n",
      "Epoch 7/10\n",
      "55000/55000 [==============================] - 2s 31us/sample - loss: 0.2398 - accuracy: 0.9147 - val_loss: 0.3552 - val_accuracy: 0.8714\n",
      "Epoch 8/10\n",
      "55000/55000 [==============================] - 2s 28us/sample - loss: 0.2370 - accuracy: 0.9149 - val_loss: 0.2980 - val_accuracy: 0.8898\n",
      "Epoch 9/10\n",
      "55000/55000 [==============================] - 2s 29us/sample - loss: 0.2326 - accuracy: 0.9175 - val_loss: 0.2939 - val_accuracy: 0.8910\n",
      "Epoch 10/10\n",
      "55000/55000 [==============================] - 1s 26us/sample - loss: 0.2284 - accuracy: 0.9193 - val_loss: 0.2936 - val_accuracy: 0.8932\n"
     ]
    }
   ],
   "source": [
    "# 10 more epochs\n",
    "history = model.fit(X_train, y_train, epochs=10, validation_data=(X_valid, y_valid))"
   ]
  },
  {
   "cell_type": "markdown",
   "metadata": {},
   "source": [
    "## Prediction"
   ]
  },
  {
   "cell_type": "code",
   "execution_count": 20,
   "metadata": {},
   "outputs": [
    {
     "data": {
      "text/plain": [
       "(3, 10)"
      ]
     },
     "execution_count": 20,
     "metadata": {},
     "output_type": "execute_result"
    }
   ],
   "source": [
    "predicted_proba = model.predict(X_train[:3]) # for first 3 \n",
    "predicted_proba.shape # 3 x 10 -- 3 instance, 10 probability for each class"
   ]
  },
  {
   "cell_type": "code",
   "execution_count": 21,
   "metadata": {},
   "outputs": [
    {
     "data": {
      "text/plain": [
       "array([0.  , 0.  , 0.34, 0.  , 0.55, 0.  , 0.1 , 0.  , 0.  , 0.  ],\n",
       "      dtype=float32)"
      ]
     },
     "execution_count": 21,
     "metadata": {},
     "output_type": "execute_result"
    }
   ],
   "source": [
    "predicted_proba.round(2)[0] # Class 4 is the most likely"
   ]
  },
  {
   "cell_type": "code",
   "execution_count": 23,
   "metadata": {},
   "outputs": [
    {
     "data": {
      "text/plain": [
       "array([4])"
      ]
     },
     "execution_count": 23,
     "metadata": {},
     "output_type": "execute_result"
    }
   ],
   "source": [
    "model.predict_classes(X_train[0:1]) # Returns class 4 as expected"
   ]
  }
 ],
 "metadata": {
  "kernelspec": {
   "display_name": "hands-on-ml",
   "language": "python",
   "name": "myenv"
  },
  "language_info": {
   "codemirror_mode": {
    "name": "ipython",
    "version": 3
   },
   "file_extension": ".py",
   "mimetype": "text/x-python",
   "name": "python",
   "nbconvert_exporter": "python",
   "pygments_lexer": "ipython3",
   "version": "3.7.3"
  }
 },
 "nbformat": 4,
 "nbformat_minor": 2
}
