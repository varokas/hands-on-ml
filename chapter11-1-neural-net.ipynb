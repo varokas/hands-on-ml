{
 "cells": [
  {
   "cell_type": "markdown",
   "metadata": {},
   "source": [
    "# Neural Network"
   ]
  },
  {
   "cell_type": "markdown",
   "metadata": {},
   "source": [
    "## Evolution\n",
    "* Artificial Neuron (Logic Gate, AND OR NOT)\n",
    "* Perceptron \n",
    "   * TLU - Threshold Unit\n",
    "   * Almost like logistic regression, but with step fnunction\n",
    "   * $h_w(x) = step( x^T w )$\n",
    "   * Usually has one extra bias feature ($x_0 = 1$)"
   ]
  },
  {
   "cell_type": "markdown",
   "metadata": {},
   "source": [
    "## Fully Connected Layer ( 1 layer )\n",
    "\n",
    "Fully connected / dense layer - Each input is sent to every neuron\n",
    "\n",
    "$h_\\text{W,b}(X) = \\phi(XW + b)$\n",
    "\n",
    "* $X$ 2D matrix: row - training instance, col is features\n",
    "* $W$ 1D array : all weights except for bias neuron\n",
    "* $b$ 1D array : weights of bias to all neuron\n",
    "* $\\phi$ Activation Function \n",
    "\n",
    "### Learning \n",
    "\n",
    "Simply update the weight based on how close $\\hat{y}$ is to $y$\n",
    "\n",
    "$ w_\\text{i,j}^\\text{next} = w_\\text{i,j} + \\eta(y_j - \\hat{y}_j)x_i$\n",
    "\n",
    "* $i$ is learning instance\n",
    "* $j$ is neuron\n",
    "* $w_\\text{i,j}$ : Weight at input $i$ and neuron $j$\n",
    "* $\\eta$ learning rate\n",
    "\n",
    "## Limitation\n",
    "* 1 layer can only deal with linearly separable \n",
    "* e.g. cannot learn XOR (needs 2 planes)\n",
    "\n",
    "## Multi Layer \n",
    "\n",
    "### Backpropagation\n",
    "* Mini-batch at a time, full training set multiple times (epoch)\n",
    "* Important to initalize to random values to break Symmetry\n",
    "\n",
    "For each training instance\n",
    "1. Makes a prediction (forward pass)\n",
    "    * pass on results to compute next layer \n",
    "    * remember what is the computed value in each layer\n",
    "2. Measure error \n",
    "3. Go back one layer at a time and measure where errors comes from\n",
    "4. Do gradient descent to tweak connection weights \n",
    "\n",
    "\n",
    "## Activation Function"
   ]
  },
  {
   "cell_type": "code",
   "execution_count": 4,
   "metadata": {},
   "outputs": [],
   "source": [
    "import numpy as np\n",
    "import matplotlib.pyplot as plt\n",
    "import seaborn as sns\n",
    "sns.set()"
   ]
  },
  {
   "cell_type": "code",
   "execution_count": 22,
   "metadata": {},
   "outputs": [
    {
     "data": {
      "text/plain": [
       "<matplotlib.legend.Legend at 0x1a22cacda0>"
      ]
     },
     "execution_count": 22,
     "metadata": {},
     "output_type": "execute_result"
    },
    {
     "data": {
      "image/png": "[encoded data removed]",
      "text/plain": [
       "<Figure size 432x288 with 1 Axes>"
      ]
     },
     "metadata": {},
     "output_type": "display_data"
    }
   ],
   "source": [
    "xs = np.linspace(-3,3,100)\n",
    "ys_sigmoid = 1 / (1 + np.exp(-xs))\n",
    "ys_tanh = 2 * (1 / (1 + np.exp(-2 * xs))) - 1\n",
    "ys_relu = np.maximum(xs, 0)\n",
    "\n",
    "plt.plot(xs,ys_sigmoid, label=\"sigmoid\") # Same as logistic regression\n",
    "plt.plot(xs,ys_tanh, label=\"tanh\") # Almost like sigmoid but (-1,1) - converge faster\n",
    "plt.plot(xs,ys_relu, label=\"ReLU\") # Not differentiable at 0, but fast -- default\n",
    "plt.ylim(top=1.2, bottom=-1.2)\n",
    "plt.legend()"
   ]
  },
  {
   "cell_type": "markdown",
   "metadata": {},
   "source": [
    "## Neural Network\n",
    "\n",
    "Input $i$ and Output $j$ classes\n",
    "\n",
    "1. Input Layer -- the input. Has $i$ neuron + 1 bias\n",
    "2. Hidden Layer -- Whatever we want\n",
    "3. Output Layer -- Softmax. \n",
    "* Has $j$ neuron represent class + softmax to find the best one\n",
    "* Normally use Cross-Entropy for loss function"
   ]
  }
 ],
 "metadata": {
  "kernelspec": {
   "display_name": "Python 3",
   "language": "python",
   "name": "python3"
  },
  "language_info": {
   "codemirror_mode": {
    "name": "ipython",
    "version": 3
   },
   "file_extension": ".py",
   "mimetype": "text/x-python",
   "name": "python",
   "nbconvert_exporter": "python",
   "pygments_lexer": "ipython3",
   "version": "3.7.3"
  }
 },
 "nbformat": 4,
 "nbformat_minor": 2
}
