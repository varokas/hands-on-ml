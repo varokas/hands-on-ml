{
 "cells": [
  {
   "cell_type": "markdown",
   "metadata": {},
   "source": [
    "# Training Models\n",
    "\n",
    "* Closed form or Gradient Descent (Stochastic, Batch, Mini-Batch)"
   ]
  },
  {
   "cell_type": "markdown",
   "metadata": {},
   "source": [
    "## Linear Regression\n",
    "### Representation \n",
    "$\\hat{y} = \\theta^{T}\\cdot x$\n",
    "* Represent one instance of a prediction (an $x_i$)\n",
    "* $x$ is feature vector - $x_0$ always is (1) - for constants\n",
    "* $\\hat{y}$ is prediction (1 value)\n",
    "* $\\theta^{T}$ is parameter vector. Transposed to dot because ML usually represents as column vector\n",
    "\n",
    "### Error\n",
    "$\\text{MSE}(\\theta) = 1/m\\sum_{i=1}^{m}(\\theta^Tx^i - y^i)^2$\n",
    "* Diff predicted value to real value for all points (squared for non-negs)\n",
    "\n",
    "### Closed Form Equation\n",
    "Find the parameter vector that minimize MSE --- $\\hat{\\theta}$\n",
    "\n",
    "$\\hat{\\theta} = (X^TX)^\\text{-1}X^Ty$\n",
    "\n",
    "* $X$ is matrix with row = data point, col = features\n",
    "* $y$ is vector of $y_1$ to $y_m$ (1D array with m values)"
   ]
  },
  {
   "cell_type": "markdown",
   "metadata": {},
   "source": [
    "### Trying it out\n",
    "* Using GDP vs Hapiness data downloaded and processed in (datasets/gdp-happiness)\n"
   ]
  },
  {
   "cell_type": "code",
   "execution_count": 96,
   "metadata": {},
   "outputs": [],
   "source": [
    "import pandas as pd\n",
    "import numpy as np\n",
    "import matplotlib.pyplot as plt"
   ]
  },
  {
   "cell_type": "markdown",
   "metadata": {},
   "source": [
    "### Using Closed Form"
   ]
  },
  {
   "cell_type": "code",
   "execution_count": 9,
   "metadata": {},
   "outputs": [
    {
     "data": {
      "text/plain": [
       "Index(['Country', 'GDP Per Capita', 'Life Satisfaction'], dtype='object')"
      ]
     },
     "execution_count": 9,
     "metadata": {},
     "output_type": "execute_result"
    }
   ],
   "source": [
    "gdp_happiness = pd.read_csv(\"datasets/gdp-happiness/gdp-vs-happiness-2017.csv\")\n",
    "gdp_happiness.columns"
   ]
  },
  {
   "cell_type": "code",
   "execution_count": 12,
   "metadata": {},
   "outputs": [
    {
     "data": {
      "text/plain": [
       "<matplotlib.axes._subplots.AxesSubplot at 0x1169759e8>"
      ]
     },
     "execution_count": 12,
     "metadata": {},
     "output_type": "execute_result"
    },
    {
     "data": {
      "image/png": "[encoded data removed]",
      "text/plain": [
       "<Figure size 432x288 with 1 Axes>"
      ]
     },
     "metadata": {
      "needs_background": "light"
     },
     "output_type": "display_data"
    }
   ],
   "source": [
    "gdp_happiness.plot.scatter(x=\"GDP Per Capita\", y=\"Life Satisfaction\")"
   ]
  },
  {
   "cell_type": "code",
   "execution_count": 21,
   "metadata": {},
   "outputs": [],
   "source": [
    "# Implements the closed form\n",
    "def theta_best(X,y): \n",
    "    X_t = X.T\n",
    "    return np.linalg.inv(X_t.dot(X)).dot(X_t).dot(y)"
   ]
  },
  {
   "cell_type": "code",
   "execution_count": 83,
   "metadata": {},
   "outputs": [],
   "source": [
    "# .values to get numpy array out of pandas series\n",
    "# np.c_ ~= zip\n",
    "\n",
    "# Note: needs to add 1 to a feature for constant to show up in theta\n",
    "\n",
    "X_gdp = np.c_[\n",
    "    np.ones(gdp_happiness[\"GDP Per Capita\"].values.size),\n",
    "    gdp_happiness[\"GDP Per Capita\"].values\n",
    "]\n",
    "\n",
    "theta_gdp_happiness = theta_best(X_gdp, gdp_happiness[\"Life Satisfaction\"].values)"
   ]
  },
  {
   "cell_type": "code",
   "execution_count": 84,
   "metadata": {},
   "outputs": [
    {
     "data": {
      "text/plain": [
       "array([4.66027944e+00, 4.31820655e-05])"
      ]
     },
     "execution_count": 84,
     "metadata": {},
     "output_type": "execute_result"
    }
   ],
   "source": [
    "theta_gdp_happiness"
   ]
  },
  {
   "cell_type": "code",
   "execution_count": 102,
   "metadata": {},
   "outputs": [
    {
     "data": {
      "text/plain": [
       "[<matplotlib.lines.Line2D at 0x1a1a164550>]"
      ]
     },
     "execution_count": 102,
     "metadata": {},
     "output_type": "execute_result"
    },
    {
     "data": {
      "image/png": "[encoded data removed]",
      "text/plain": [
       "<Figure size 432x288 with 1 Axes>"
      ]
     },
     "metadata": {
      "needs_background": "light"
     },
     "output_type": "display_data"
    }
   ],
   "source": [
    "gdp_happiness.plot.scatter(x=\"GDP Per Capita\", y=\"Life Satisfaction\")\n",
    "x_lin = np.linspace(0, 80000, 1000)\n",
    "y_lin = theta_gdp_happiness[0] + theta_gdp_happiness[1]*x_lin\n",
    "plt.plot(x_lin, y_lin, \"-r\")"
   ]
  },
  {
   "cell_type": "markdown",
   "metadata": {},
   "source": [
    "### Using Scikit-Learn"
   ]
  },
  {
   "cell_type": "code",
   "execution_count": 91,
   "metadata": {},
   "outputs": [
    {
     "data": {
      "text/plain": [
       "LinearRegression(copy_X=True, fit_intercept=True, n_jobs=None,\n",
       "         normalize=False)"
      ]
     },
     "execution_count": 91,
     "metadata": {},
     "output_type": "execute_result"
    }
   ],
   "source": [
    "# .reshape(-1,1) to make an array 2D -- even when we only have 1 feature\n",
    "\n",
    "from sklearn.linear_model import LinearRegression\n",
    "lin_reg = LinearRegression()\n",
    "lin_reg.fit(gdp_happiness[\"GDP Per Capita\"].values.reshape(-1,1), gdp_happiness[\"Life Satisfaction\"].values)"
   ]
  },
  {
   "cell_type": "code",
   "execution_count": 92,
   "metadata": {},
   "outputs": [
    {
     "data": {
      "text/plain": [
       "(4.660279441576911, array([4.31820655e-05]))"
      ]
     },
     "execution_count": 92,
     "metadata": {},
     "output_type": "execute_result"
    }
   ],
   "source": [
    "lin_reg.intercept_, lin_reg.coef_"
   ]
  }
 ],
 "metadata": {
  "kernelspec": {
   "display_name": "Python 3",
   "language": "python",
   "name": "python3"
  },
  "language_info": {
   "codemirror_mode": {
    "name": "ipython",
    "version": 3
   },
   "file_extension": ".py",
   "mimetype": "text/x-python",
   "name": "python",
   "nbconvert_exporter": "python",
   "pygments_lexer": "ipython3",
   "version": "3.7.3"
  }
 },
 "nbformat": 4,
 "nbformat_minor": 2
}
