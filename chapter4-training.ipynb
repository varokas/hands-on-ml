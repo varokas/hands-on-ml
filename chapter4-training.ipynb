{
 "cells": [
  {
   "cell_type": "markdown",
   "metadata": {},
   "source": [
    "# Training Models\n",
    "\n",
    "* Closed form or Gradient Descent (Stochastic, Batch, Mini-Batch)"
   ]
  },
  {
   "cell_type": "markdown",
   "metadata": {},
   "source": [
    "## Linear Regression\n",
    "### Representation \n",
    "$\\hat{y} = \\theta^{T}\\cdot x$\n",
    "* Represent one instance of a prediction (an $x_i$)\n",
    "* $x$ is feature vector - $x_0$ always is (1) - for constants\n",
    "* $\\hat{y}$ is prediction (1 value)\n",
    "* $\\theta^{T}$ is parameter vector. Transposed to dot because ML usually represents as column vector\n",
    "\n",
    "### Error\n",
    "$\\text{MSE}(\\theta) = 1/m\\sum_{i=1}^{m}(\\theta^Tx^i - y^i)^2$\n",
    "* Diff predicted value to real value for all points (squared for non-negs)\n",
    "\n",
    "### Closed Form Equation\n",
    "Find the parameter vector that minimize MSE --- $\\hat{\\theta}$\n",
    "\n",
    "$\\hat{\\theta} = (X^TX)^\\text{-1}X^Ty$\n",
    "\n",
    "* $X$ is matrix with row = data point, col = features\n",
    "* $y$ is vector of $y_1$ to $y_m$ (1D array with m values)\n",
    "* Runtime\n",
    "    * $O(n^3)$ - n being number of features -- because Inverse of $X \\cdot X^T$ is $O(n^3)$\n",
    "    * Scales linearly with number of samples"
   ]
  },
  {
   "cell_type": "markdown",
   "metadata": {},
   "source": [
    "### Trying it out\n",
    "* Using GDP vs Hapiness data downloaded and processed in (datasets/gdp-happiness)\n"
   ]
  },
  {
   "cell_type": "code",
   "execution_count": 1,
   "metadata": {},
   "outputs": [],
   "source": [
    "import pandas as pd\n",
    "import numpy as np\n",
    "import matplotlib.pyplot as plt"
   ]
  },
  {
   "cell_type": "markdown",
   "metadata": {},
   "source": [
    "### Using Closed Form"
   ]
  },
  {
   "cell_type": "code",
   "execution_count": 2,
   "metadata": {},
   "outputs": [
    {
     "data": {
      "text/plain": [
       "Index(['Country', 'GDP Per Capita', 'Life Satisfaction'], dtype='object')"
      ]
     },
     "execution_count": 2,
     "metadata": {},
     "output_type": "execute_result"
    }
   ],
   "source": [
    "gdp_happiness = pd.read_csv(\"datasets/gdp-happiness/gdp-vs-happiness-2017.csv\")\n",
    "gdp_happiness.columns"
   ]
  },
  {
   "cell_type": "code",
   "execution_count": 3,
   "metadata": {},
   "outputs": [
    {
     "data": {
      "text/plain": [
       "<matplotlib.axes._subplots.AxesSubplot at 0x11df16588>"
      ]
     },
     "execution_count": 3,
     "metadata": {},
     "output_type": "execute_result"
    },
    {
     "data": {
      "image/png": "[encoded data removed]",
      "text/plain": [
       "<Figure size 432x288 with 1 Axes>"
      ]
     },
     "metadata": {
      "needs_background": "light"
     },
     "output_type": "display_data"
    }
   ],
   "source": [
    "gdp_happiness.plot.scatter(x=\"GDP Per Capita\", y=\"Life Satisfaction\")"
   ]
  },
  {
   "cell_type": "code",
   "execution_count": 4,
   "metadata": {},
   "outputs": [],
   "source": [
    "# Implements the closed form\n",
    "def theta_best(X,y): \n",
    "    X_t = X.T\n",
    "    return np.linalg.inv(X_t.dot(X)).dot(X_t).dot(y)"
   ]
  },
  {
   "cell_type": "code",
   "execution_count": 5,
   "metadata": {},
   "outputs": [],
   "source": [
    "# .values to get numpy array out of pandas series\n",
    "# np.c_ ~= zip\n",
    "\n",
    "# Note: needs to add 1 to a feature for constant to show up in theta\n",
    "\n",
    "X_gdp = np.c_[\n",
    "    np.ones(gdp_happiness[\"GDP Per Capita\"].values.size),\n",
    "    gdp_happiness[\"GDP Per Capita\"].values\n",
    "]\n",
    "\n",
    "theta_gdp_happiness = theta_best(X_gdp, gdp_happiness[\"Life Satisfaction\"].values)"
   ]
  },
  {
   "cell_type": "code",
   "execution_count": 6,
   "metadata": {},
   "outputs": [
    {
     "data": {
      "text/plain": [
       "array([4.66027944e+00, 4.31820655e-05])"
      ]
     },
     "execution_count": 6,
     "metadata": {},
     "output_type": "execute_result"
    }
   ],
   "source": [
    "theta_gdp_happiness"
   ]
  },
  {
   "cell_type": "code",
   "execution_count": 7,
   "metadata": {},
   "outputs": [
    {
     "data": {
      "text/plain": [
       "[<matplotlib.lines.Line2D at 0x11de33f98>]"
      ]
     },
     "execution_count": 7,
     "metadata": {},
     "output_type": "execute_result"
    },
    {
     "data": {
      "image/png": "[encoded data removed]",
      "text/plain": [
       "<Figure size 432x288 with 1 Axes>"
      ]
     },
     "metadata": {
      "needs_background": "light"
     },
     "output_type": "display_data"
    }
   ],
   "source": [
    "gdp_happiness.plot.scatter(x=\"GDP Per Capita\", y=\"Life Satisfaction\")\n",
    "x_lin = np.linspace(0, 80000, 1000)\n",
    "y_lin = theta_gdp_happiness[0] + theta_gdp_happiness[1]*x_lin\n",
    "plt.plot(x_lin, y_lin, \"-r\")"
   ]
  },
  {
   "cell_type": "markdown",
   "metadata": {},
   "source": [
    "### Using Scikit-Learn"
   ]
  },
  {
   "cell_type": "code",
   "execution_count": 8,
   "metadata": {},
   "outputs": [
    {
     "data": {
      "text/plain": [
       "LinearRegression(copy_X=True, fit_intercept=True, n_jobs=None,\n",
       "         normalize=False)"
      ]
     },
     "execution_count": 8,
     "metadata": {},
     "output_type": "execute_result"
    }
   ],
   "source": [
    "# .reshape(-1,1) to make an array 2D -- even when we only have 1 feature\n",
    "# Edited: can easily obtain column vector from pandas df[[\"col\"]] rather than df[\"col\"]\n",
    "\n",
    "from sklearn.linear_model import LinearRegression\n",
    "lin_reg = LinearRegression()\n",
    "lin_reg.fit(gdp_happiness[[\"GDP Per Capita\"]], gdp_happiness[[\"Life Satisfaction\"]])"
   ]
  },
  {
   "cell_type": "code",
   "execution_count": 9,
   "metadata": {},
   "outputs": [
    {
     "data": {
      "text/plain": [
       "(array([4.66027944]), array([[4.31820655e-05]]))"
      ]
     },
     "execution_count": 9,
     "metadata": {},
     "output_type": "execute_result"
    }
   ],
   "source": [
    "lin_reg.intercept_, lin_reg.coef_"
   ]
  },
  {
   "cell_type": "markdown",
   "metadata": {},
   "source": [
    "## Gradient Descent\n",
    "### Steps\n",
    "1. Fill $\\theta$ with random value\n",
    "2. Take a small step (learning rate) in a direction that lower $\\text{MSE}$\n",
    "   * Too small -- takes long time\n",
    "   * Too large -- overshoot to other side of curve\n",
    "   * Many stuck in local minimum\n",
    "\n",
    "Linear regression is convex, so there's only one local minimum, which is the global minimum\n",
    "\n",
    "__It is important to scale the features for gradient descent to work well__"
   ]
  },
  {
   "cell_type": "markdown",
   "metadata": {},
   "source": [
    "### Batch Gradient Descent\n",
    "For each parameter $\\theta_j$, take partial derivative at $j$ to find the slope for each $j$. \n",
    "\n",
    "$\\frac{\\partial}{\\partial \\theta_j}\\text{MSE}(\\theta) = 2/m\\sum_{i=1}^{m}(\\theta^Tx^i - y^i)x^i_j$\n",
    "\n",
    "Combining all $\\theta_j$ together in one vector $\\nabla_\\theta\\text{MSE}(\\theta)$ represents partial derivative of all $\\theta_j$\n",
    "\n",
    "$\\nabla_\\theta\\text{MSE}(\\theta) = \\frac{2}{m}X^T(X\\theta - y)$\n",
    "* $X$ is the entire training data set\n",
    "* $\\theta$ is the current parameter vector\n",
    "* Note that we compute the whole data set every time\n",
    "\n",
    "$\\nabla_\\theta\\text{MSE}(\\theta)$ represents a slope. We would like update the value by walking down (opposite) the slope at step size (or learning rate or eta sign) = $\\eta$\n",
    "\n",
    "$\\theta_\\text{next} = \\theta - \\eta*\\nabla_\\theta\\text{MSE}(\\theta)$"
   ]
  },
  {
   "cell_type": "code",
   "execution_count": 10,
   "metadata": {},
   "outputs": [
    {
     "data": {
      "text/plain": [
       "(array([19232.53960348]), array([18724.37121949]))"
      ]
     },
     "execution_count": 10,
     "metadata": {},
     "output_type": "execute_result"
    }
   ],
   "source": [
    "# From the warnings, lets scale X_gdp first\n",
    "from sklearn.preprocessing import StandardScaler\n",
    "Xscaler = StandardScaler()\n",
    "X_gdp_scaled = np.c_[\n",
    "    np.ones(gdp_happiness[\"GDP Per Capita\"].values.size),\n",
    "    Xscaler.fit_transform(gdp_happiness[[\"GDP Per Capita\"]])\n",
    "]\n",
    "\n",
    "(Xscaler.mean_, Xscaler.scale_)"
   ]
  },
  {
   "cell_type": "code",
   "execution_count": 11,
   "metadata": {},
   "outputs": [
    {
     "data": {
      "text/plain": [
       "(array([5.49078023]), array([1.1127658]))"
      ]
     },
     "execution_count": 11,
     "metadata": {},
     "output_type": "execute_result"
    }
   ],
   "source": [
    "# Then scale y\n",
    "yScaler = StandardScaler()\n",
    "y_gdp_scaled = yScaler.fit_transform(gdp_happiness[[\"Life Satisfaction\"]])\n",
    "\n",
    "(yScaler.mean_, yScaler.scale_)"
   ]
  },
  {
   "cell_type": "code",
   "execution_count": 12,
   "metadata": {},
   "outputs": [
    {
     "data": {
      "text/plain": [
       "array([[-5.66757208e-17],\n",
       "       [ 7.26599927e-01]])"
      ]
     },
     "execution_count": 12,
     "metadata": {},
     "output_type": "execute_result"
    }
   ],
   "source": [
    "# Implements Batch Gradient Descent for linear regression\n",
    "\n",
    "def update_theta(theta, eta, gradient):\n",
    "    return theta - eta * gradient\n",
    "\n",
    "def find_gradient(theta, X, y):\n",
    "    m = X.size\n",
    "    return 2/m * X.T.dot( X.dot(theta) - y )\n",
    "\n",
    "def bgd(X,y,initialTheta, eta=0.1, rounds=100):\n",
    "    theta = initialTheta\n",
    "    for i in range(rounds):\n",
    "        gradient = find_gradient(theta, X, y)\n",
    "        theta = update_theta(theta, eta, gradient)\n",
    "        \n",
    "    return theta\n",
    "\n",
    "bgd(X_gdp_scaled, y_gdp_scaled, [[0],[0]])"
   ]
  },
  {
   "cell_type": "code",
   "execution_count": 205,
   "metadata": {},
   "outputs": [
    {
     "data": {
      "text/plain": [
       "(array([-5.78764824e-17]), array([[0.72661923]]))"
      ]
     },
     "execution_count": 205,
     "metadata": {},
     "output_type": "execute_result"
    }
   ],
   "source": [
    "# Compared it with scaled linear regression\n",
    "\n",
    "from sklearn.linear_model import LinearRegression\n",
    "lin_reg_gdp_scaled = LinearRegression()\n",
    "lin_reg_gdp_scaled.fit(X_gdp_scaled[:,1].reshape(-1,1), y_gdp_scaled)\n",
    "\n",
    "lin_reg_gdp_scaled.intercept_, lin_reg_gdp_scaled.coef_"
   ]
  },
  {
   "cell_type": "code",
   "execution_count": 206,
   "metadata": {},
   "outputs": [
    {
     "data": {
      "text/plain": [
       "[<matplotlib.lines.Line2D at 0x1a2ba37e48>]"
      ]
     },
     "execution_count": 206,
     "metadata": {},
     "output_type": "execute_result"
    },
    {
     "data": {
      "image/png": "[encoded data removed]",
      "text/plain": [
       "<Figure size 432x288 with 1 Axes>"
      ]
     },
     "metadata": {
      "needs_background": "light"
     },
     "output_type": "display_data"
    }
   ],
   "source": [
    "# Plot the scaled\n",
    "plt.scatter(X_gdp_scaled[:,1], y_gdp_scaled)\n",
    "x_lin = np.linspace(-1,5, 100)\n",
    "y_lin = lin_reg_gdp_scaled.predict(x_lin.reshape(-1,1))\n",
    "plt.plot(x_lin, y_lin, \"-r\")"
   ]
  },
  {
   "cell_type": "code",
   "execution_count": 207,
   "metadata": {},
   "outputs": [
    {
     "data": {
      "text/plain": [
       "[<matplotlib.lines.Line2D at 0x1a2bc27080>]"
      ]
     },
     "execution_count": 207,
     "metadata": {},
     "output_type": "execute_result"
    },
    {
     "data": {
      "image/png": "[encoded data removed]",
      "text/plain": [
       "<Figure size 432x288 with 1 Axes>"
      ]
     },
     "metadata": {
      "needs_background": "light"
     },
     "output_type": "display_data"
    }
   ],
   "source": [
    "# Bonus - unscaled the values using scaler.inverse_transform\n",
    "gdp_happiness.plot.scatter(x=\"GDP Per Capita\", y=\"Life Satisfaction\")\n",
    "x_lin = np.linspace(0,100000, 100)\n",
    "\n",
    "# This is rather tedious, find a better way?\n",
    "y_lin = yScaler.inverse_transform( lin_reg_gdp_scaled.predict(Xscaler.transform(x_lin.reshape(-1,1))) )\n",
    "plt.plot(x_lin, y_lin, \"-r\")"
   ]
  },
  {
   "cell_type": "markdown",
   "metadata": {},
   "source": [
    "## Stochasic Gradient Descent\n",
    "* Pick only one point of data at random, and use it to train (rather than whole set of data)\n",
    "* Suitable to have a large initial learning rate then smaller (simulated annealing, learning schedule)\n",
    "* Much less regular, cost will bump up and down - may be suitable to jump out of local minima\n",
    "* random m times in 1 round (called __epoch__)\n",
    "\n",
    "Note\n",
    "* Training instance must be independent (not groupped). shuffle if needed"
   ]
  },
  {
   "cell_type": "markdown",
   "metadata": {},
   "source": [
    "### Try it out"
   ]
  },
  {
   "cell_type": "code",
   "execution_count": 278,
   "metadata": {},
   "outputs": [
    {
     "data": {
      "text/plain": [
       "array([[0.00524856],\n",
       "       [0.73889146]])"
      ]
     },
     "execution_count": 278,
     "metadata": {},
     "output_type": "execute_result"
    }
   ],
   "source": [
    "# t0, t1 is learning schedule hyper parameters\n",
    "def learning_schedule(t, t0=7, t1=1):\n",
    "    return t0 / (t + t1)\n",
    "\n",
    "def sgd(X,y, initial_theta, epochs=200):\n",
    "    m = X.shape[0]\n",
    "    theta = initial_theta\n",
    "    errors = []\n",
    "    for epoch in range(epochs):\n",
    "        for i in range(m):\n",
    "            idx = np.random.randint(m)\n",
    "            xi = X[idx:idx+1] # Use ranges, so we got a 2D vector instead of 1D (array)\n",
    "            yi = y[idx:idx+1]\n",
    "            gradients = find_gradient(theta, xi, yi) # same as batch, but only 1 element here\n",
    "            eta = learning_schedule(epoch * m + i)\n",
    "            theta = update_theta(theta,eta,gradients)\n",
    "\n",
    "        # Error at end of epoch\n",
    "        errors.append( np.sum((X.dot(theta) - y)**2) ) \n",
    "            \n",
    "    return theta, errors\n",
    "    \n",
    "sgd_theta, errors = sgd(X_gdp_scaled, y_gdp_scaled, [[0],[0]])\n",
    "sgd_theta"
   ]
  },
  {
   "cell_type": "code",
   "execution_count": 279,
   "metadata": {},
   "outputs": [
    {
     "data": {
      "text/plain": [
       "[<matplotlib.lines.Line2D at 0x1a2b807898>]"
      ]
     },
     "execution_count": 279,
     "metadata": {},
     "output_type": "execute_result"
    },
    {
     "data": {
      "image/png": "[encoded data removed]",
      "text/plain": [
       "<Figure size 432x288 with 1 Axes>"
      ]
     },
     "metadata": {
      "needs_background": "light"
     },
     "output_type": "display_data"
    }
   ],
   "source": [
    "# Errors jumps around for SGD\n",
    "plt.plot(errors)"
   ]
  },
  {
   "cell_type": "markdown",
   "metadata": {},
   "source": [
    "### Using Scikit Learn"
   ]
  },
  {
   "cell_type": "code",
   "execution_count": 297,
   "metadata": {},
   "outputs": [
    {
     "data": {
      "text/plain": [
       "SGDRegressor(alpha=0.0001, average=False, early_stopping=False, epsilon=0.1,\n",
       "       eta0=0.01, fit_intercept=True, l1_ratio=0.15,\n",
       "       learning_rate='invscaling', loss='squared_loss', max_iter=1000,\n",
       "       n_iter=None, n_iter_no_change=5, penalty=None, power_t=0.25,\n",
       "       random_state=None, shuffle=True, tol=0.001, validation_fraction=0.1,\n",
       "       verbose=0, warm_start=False)"
      ]
     },
     "execution_count": 297,
     "metadata": {},
     "output_type": "execute_result"
    }
   ],
   "source": [
    "#.ravel ~= flatmap [ [0],[1] ] -> [0,1]\n",
    "# transform from column vector to array\n",
    "\n",
    "from sklearn.linear_model import SGDRegressor\n",
    "sgd_reg = SGDRegressor(max_iter=1000, tol=1e-3, penalty=None, eta0=0.01)\n",
    "sgd_reg.fit(X_gdp_scaled[:,1].reshape(-1,1), y_gdp_scaled.ravel())\n"
   ]
  },
  {
   "cell_type": "code",
   "execution_count": 298,
   "metadata": {},
   "outputs": [
    {
     "data": {
      "text/plain": [
       "(array([-0.000493]), array([0.70833334]))"
      ]
     },
     "execution_count": 298,
     "metadata": {},
     "output_type": "execute_result"
    }
   ],
   "source": [
    "sgd_reg.intercept_, sgd_reg.coef_"
   ]
  },
  {
   "cell_type": "code",
   "execution_count": 299,
   "metadata": {},
   "outputs": [],
   "source": [
    "## Mini batch ?? - https://github.com/ageron/handson-ml/issues/226"
   ]
  },
  {
   "cell_type": "code",
   "execution_count": null,
   "metadata": {},
   "outputs": [],
   "source": []
  }
 ],
 "metadata": {
  "kernelspec": {
   "display_name": "Python 3",
   "language": "python",
   "name": "python3"
  },
  "language_info": {
   "codemirror_mode": {
    "name": "ipython",
    "version": 3
   },
   "file_extension": ".py",
   "mimetype": "text/x-python",
   "name": "python",
   "nbconvert_exporter": "python",
   "pygments_lexer": "ipython3",
   "version": "3.7.3"
  }
 },
 "nbformat": 4,
 "nbformat_minor": 2
}
